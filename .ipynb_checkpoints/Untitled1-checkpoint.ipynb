{
 "cells": [
  {
   "cell_type": "code",
   "execution_count": 1,
   "metadata": {
    "collapsed": false
   },
   "outputs": [],
   "source": [
    "require \"nn\"\n",
    "require \"nngraph\""
   ]
  },
  {
   "cell_type": "code",
   "execution_count": 2,
   "metadata": {
    "collapsed": false
   },
   "outputs": [],
   "source": [
    "OneHot, parent = torch.class('OneHot', 'nn.Module')\n",
    "\n",
    "function OneHot:__init(outputSize)\n",
    "  parent.__init(self)\n",
    "  self.outputSize = outputSize\n",
    "  -- We'll construct one-hot encodings by using the index method to\n",
    "  -- reshuffle the rows of an identity matrix. To avoid recreating\n",
    "  -- it every iteration we'll cache it.\n",
    "  self._eye = torch.eye(outputSize)\n",
    "end\n",
    "\n",
    "function OneHot:updateOutput(input)\n",
    "  self.output:resize(input:size(1), self.outputSize):zero()\n",
    "  if self._eye == nil then self._eye = torch.eye(self.outputSize) end\n",
    "  self._eye = self._eye:float()\n",
    "  local longInput = input:long()\n",
    "  print(input)\n",
    "  self.output:copy(self._eye:index(1, longInput))\n",
    "  return self.output\n",
    "end"
   ]
  },
  {
   "cell_type": "code",
   "execution_count": 8,
   "metadata": {
    "collapsed": false
   },
   "outputs": [],
   "source": [
    "encoder = OneHot(x)"
   ]
  },
  {
   "cell_type": "code",
   "execution_count": 10,
   "metadata": {
    "collapsed": false
   },
   "outputs": [
    {
     "data": {
      "text/plain": [
       "nngraph.Node\n",
       "{\n",
       "  data : \n",
       "    {\n",
       "      module : \n",
       "        nn.Module\n",
       "        {\n",
       "          updateOutput : function: 0x1a03ba28\n",
       "          __pow : function: 0x1a03b5e0\n",
       "          __version : 1\n",
       "          __factory : function: 0x1a03adc8\n",
       "          __init : function: 0x1a03acd0\n",
       "          __typename : OneHot\n",
       "          __metatable : \n",
       "            nn.Module\n",
       "            {\n",
       "              updateOutput : function: 0x1a03ba28\n",
       "              __pow : function: 0x1a03b5e0\n",
       "              __version : 1\n",
       "              __factory : function: 0x1a03adc8\n",
       "              __init : function: 0x1a03acd0\n",
       "              __typename : OneHot\n",
       "              __metatable : \n",
       "                nn.Module\n",
       "                {\n",
       "                  updateOutput : function: 0x1a03ba28\n",
       "                  __pow : function: 0x1a03b5e0\n",
       "                  __version : 1\n",
       "                  __factory : function: 0x1a03adc8\n",
       "                  __init : function: 0x1a03acd0\n",
       "                  __typename : OneHot\n",
       "                  __metatable : nn.Module\n",
       "                  __mod : function: 0x1a03b5b8\n",
       "                  __call : function: 0x1a03b4a0\n",
       "                  __unm : function: 0x1a03b608\n",
       "                  __newindex : function: 0x1a03ae70\n",
       "                  __lt : function: 0x1a03b450\n",
       "                  __tostring : function: 0x1a03ae98\n",
       "                  __le : function: 0x1a03b478\n",
       "                  __eq : function: 0x1a03aca8\n",
       "                  new : function: 0x1a03a9f8\n",
       "                  __add : function: 0x1a03b518\n",
       "                  __index : function: 0x1a03ae10\n",
       "                  __concat : function: 0x1a03b630\n",
       "                  __mul : function: 0x1a03b568\n",
       "                  __len : function: 0x1a03ae38\n",
       "                  __sub : function: 0x1a03b540\n",
       "                  __constructor : table: 0x1a03b4c8\n",
       "                  __div : function: 0x1a03b590\n",
       "                }\n",
       "              __mod : function: 0x1a03b5b8\n",
       "              __call : function: 0x1a03b4a0\n",
       "              __unm : function: 0x1a03b608\n",
       "              __newindex : function: 0x1a03ae70\n",
       "              __lt : function: 0x1a03b450\n",
       "              __tostring : function: 0x1a03ae98\n",
       "              __le : function: 0x1a03b478\n",
       "              __eq : function: 0x1a03aca8\n",
       "              new : function: 0x1a03a9f8\n",
       "              __add : function: 0x1a03b518\n",
       "              __index : function: 0x1a03ae10\n",
       "              __concat : function: 0x1a03b630\n",
       "              __mul : function: 0x1a03b568\n",
       "              __len : function: 0x1a03ae38\n",
       "              __sub : function: 0x1a03b540\n",
       "              __constructor : table: 0x1a03b4c8\n",
       "              __div : function: 0x1a03b590\n",
       "            }\n",
       "          __mod : function: 0x1a03b5b8\n",
       "          __call : function: 0x1a03b4a0\n",
       "          __unm : function: 0x1a03b608\n",
       "          __newindex : function: 0x1a03ae70\n",
       "          __lt : function: 0x1a03b450\n",
       "          __tostring : function: 0x1a03ae98\n",
       "          __le : function: 0x1a03b478\n",
       "          __eq : function: 0x1a03aca8\n",
       "          new : function: 0x1a03a9f8\n",
       "          __add : function: 0x1a03b518\n",
       "          __index : function: 0x1a03ae10\n",
       "          __concat : function: 0x1a03b630\n",
       "          __mul : function: 0x1a03b568\n",
       "          __len : function: 0x1a03ae38\n",
       "          __sub : function: 0x1a03b540\n",
       "          __constructor : table: 0x1a03b4c8\n",
       "          __div : function: 0x1a03b590\n",
       "        }\n",
       "      mapindex : \n",
       "        {\n",
       "          1 : \n",
       "            {\n",
       "              module : \n",
       "                nn.Identity\n",
       "                {\n",
       "                  gradInput : DoubleTensor - empty\n",
       "                  output : DoubleTensor - empty\n",
       "                }\n",
       "              mapindex : table: 0x1a0507b0\n",
       "              annotations : \n",
       "                {\n",
       "                  _debugLabel : [[string \"x = nn.Identity()()...\"]]:1_\n",
       "                }\n",
       "            }\n",
       "          table: 0x1a050578 : 1\n",
       "        }\n",
       "      annotations : \n",
       "        {\n",
       "          _debugLabel : [[string \"encoder = OneHot(x)...\"]]:1_\n",
       "        }\n",
       "    }\n",
       "  visited : false\n",
       "  id : 0\n",
       "  marked : false\n",
       "  children : \n",
       "    {\n",
       "      1 : \n",
       "        nngraph.Node\n",
       "        {\n",
       "          data : \n",
       "            {\n",
       "              module : \n",
       "                nn.Identity\n",
       "                {\n",
       "                  gradInput"
      ]
     },
     "execution_count": 10,
     "metadata": {},
     "output_type": "execute_result"
    }
   ],
   "source": [
    "encoder"
   ]
  },
  {
   "cell_type": "code",
   "execution_count": 25,
   "metadata": {
    "collapsed": false
   },
   "outputs": [
    {
     "ename": "[string \"local f = function() return torch.eye(2):inde...\"]:1: bad argument #3 to 'f' (Index is supposed to be a vector at /tmp/luarocks_torch-scm-1-3472/torch7/lib/TH/generic/THTensorMath.c:115)\nstack traceback:\n\t[C]: in function 'f'\n\t[string \"local f = function() return torch.eye(2):inde...\"]:1: in main chunk\n\t[C]: in function 'xpcall'\n\t/Users/petr/torch/install/share/lua/5.1/itorch/main.lua:179: in function </Users/petr/torch/install/share/lua/5.1/itorch/main.lua:143>\n\t/Users/petr/torch/install/share/lua/5.1/lzmq/poller.lua:75: in function 'poll'\n\t/Users/petr/torch/install/share/lua/5.1/lzmq/impl/loop.lua:307: in function 'poll'\n\t/Users/petr/torch/install/share/lua/5.1/lzmq/impl/loop.lua:325: in function 'sleep_ex'\n\t/Users/petr/torch/install/share/lua/5.1/lzmq/impl/loop.lua:370: in function 'start'\n\t/Users/petr/torch/install/share/lua/5.1/itorch/main.lua:350: in main chunk\n\t[C]: in function 'require'\n\t[string \"arg={'/Users/petr/Library/Jupyter/runtime/ker...\"]:1: in main chunk",
     "evalue": "",
     "output_type": "error",
     "traceback": [
      "[string \"local f = function() return torch.eye(2):inde...\"]:1: bad argument #3 to 'f' (Index is supposed to be a vector at /tmp/luarocks_torch-scm-1-3472/torch7/lib/TH/generic/THTensorMath.c:115)\nstack traceback:\n\t[C]: in function 'f'\n\t[string \"local f = function() return torch.eye(2):inde...\"]:1: in main chunk\n\t[C]: in function 'xpcall'\n\t/Users/petr/torch/install/share/lua/5.1/itorch/main.lua:179: in function </Users/petr/torch/install/share/lua/5.1/itorch/main.lua:143>\n\t/Users/petr/torch/install/share/lua/5.1/lzmq/poller.lua:75: in function 'poll'\n\t/Users/petr/torch/install/share/lua/5.1/lzmq/impl/loop.lua:307: in function 'poll'\n\t/Users/petr/torch/install/share/lua/5.1/lzmq/impl/loop.lua:325: in function 'sleep_ex'\n\t/Users/petr/torch/install/share/lua/5.1/lzmq/impl/loop.lua:370: in function 'start'\n\t/Users/petr/torch/install/share/lua/5.1/itorch/main.lua:350: in main chunk\n\t[C]: in function 'require'\n\t[string \"arg={'/Users/petr/Library/Jupyter/runtime/ker...\"]:1: in main chunk"
     ]
    }
   ],
   "source": [
    "torch.eye(2):index(1, torch.Tensor(1,1,2):long())"
   ]
  },
  {
   "cell_type": "code",
   "execution_count": null,
   "metadata": {
    "collapsed": true
   },
   "outputs": [],
   "source": []
  }
 ],
 "metadata": {
  "kernelspec": {
   "display_name": "iTorch",
   "language": "lua",
   "name": "itorch"
  },
  "language_info": {
   "name": "lua",
   "version": "20100"
  }
 },
 "nbformat": 4,
 "nbformat_minor": 0
}
